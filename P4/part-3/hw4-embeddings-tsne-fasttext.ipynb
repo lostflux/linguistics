{
 "cells": [
  {
   "cell_type": "markdown",
   "metadata": {
    "id": "tKDwQorvrSRJ"
   },
   "source": [
    "# Homework 4.3: Vectorial arithmetic using Embeddings\n",
    "Dartmouth College, LING48/CS72, Winter 2024<br>\n",
    "Kenneth Lai (Kenneth.Han.Lai@dartmouth.edu)\n",
    "\n",
    "This notebook uses a variant of Word2Vec called [FastText](https://fasttext.cc/docs/en/crawl-vectors.html), which learns both words and subword units. Specifically, we use [compress-fasttext](https://github.com/avidale/compress-fasttext), which allows for models to fit in memory. The script downloads a collection of embeddings (the .bin file) and then performs operations like analogies, similarity measurements, and \"odd-one-out\" operations.\n",
    "\n",
    "The notebook also has code to generate a tSNE chart for a sequence of words.\n",
    "\n",
    "You can learn more about the details of the code below here:<br>\n",
    "https://samyzaf.com/ML/nlp/nlp.html\n",
    "\n",
    "I got the visualization code from here:<br>\n",
    "https://radimrehurek.com/gensim/auto_examples/tutorials/run_word2vec.html\n",
    "\n",
    "You can learn more about word2vec here:<br>\n",
    "http://jalammar.github.io/illustrated-word2vec/\n",
    "\n",
    "In your homework you will need to modify this code to download models for other languages. You can find them here:<br>https://zenodo.org/records/4905385"
   ]
  },
  {
   "cell_type": "markdown",
   "metadata": {},
   "source": [
    "### CS72/LING48 Homework 4.2: Convolutional Neural Networks and ASL\n",
    "### Assignment Code Edited by: Amittai Siavava"
   ]
  },
  {
   "cell_type": "code",
   "execution_count": 1,
   "metadata": {
    "id": "bTGXbtoBsjfq"
   },
   "outputs": [
    {
     "name": "stdout",
     "output_type": "stream",
     "text": [
      "Collecting compress-fasttext\n",
      "  Downloading compress-fasttext-0.1.4.tar.gz (15 kB)\n",
      "  Preparing metadata (setup.py) ... \u001b[?25ldone\n",
      "\u001b[?25hCollecting gensim>=4.0.0\n",
      "  Downloading gensim-4.3.2-cp310-cp310-macosx_10_9_x86_64.whl (24.1 MB)\n",
      "\u001b[2K     \u001b[90m━━━━━━━━━━━━━━━━━━━━━━━━━━━━━━━━━━━━━━━━\u001b[0m \u001b[32m24.1/24.1 MB\u001b[0m \u001b[31m11.5 MB/s\u001b[0m eta \u001b[36m0:00:00\u001b[0m00:01\u001b[0m00:01\u001b[0m\n",
      "\u001b[?25hRequirement already satisfied: numpy in /Users/amittaijoel/miniconda3/envs/torch/lib/python3.10/site-packages (from compress-fasttext) (1.23.5)\n",
      "Requirement already satisfied: scipy>=1.7.0 in /Users/amittaijoel/miniconda3/envs/torch/lib/python3.10/site-packages (from gensim>=4.0.0->compress-fasttext) (1.10.1)\n",
      "Collecting smart-open>=1.8.1\n",
      "  Using cached smart_open-6.4.0-py3-none-any.whl (57 kB)\n",
      "Building wheels for collected packages: compress-fasttext\n",
      "  Building wheel for compress-fasttext (setup.py) ... \u001b[?25ldone\n",
      "\u001b[?25h  Created wheel for compress-fasttext: filename=compress_fasttext-0.1.4-py3-none-any.whl size=16097 sha256=e7d19843516496bef3437101614b30be51bbfcc2754ce3a2fb5df1b3bd1e425c\n",
      "  Stored in directory: /Users/amittaijoel/Library/Caches/pip/wheels/ef/0f/e8/5873a842310e96066067d9300281979b4a7d74b46d938f440e\n",
      "Successfully built compress-fasttext\n",
      "Installing collected packages: smart-open, gensim, compress-fasttext\n",
      "Successfully installed compress-fasttext-0.1.4 gensim-4.3.2 smart-open-6.4.0\n",
      "Note: you may need to restart the kernel to use updated packages.\n"
     ]
    }
   ],
   "source": [
    "#=============================================================================\n",
    "# Install fasttext model loaders\n",
    "# https://github.com/avidale/compress-fasttext\n",
    "#=============================================================================\n",
    "\n",
    "%pip install compress-fasttext"
   ]
  },
  {
   "cell_type": "code",
   "execution_count": 4,
   "metadata": {
    "id": "C3O6kVFyslDM"
   },
   "outputs": [
    {
     "name": "stdout",
     "output_type": "stream",
     "text": [
      "zsh:1: no matches found: https://zenodo.org/records/4905385/files/fasttext-fr-mini?download=1\n"
     ]
    }
   ],
   "source": [
    "#=============================================================================\n",
    "# In your homework you need to replace the English model for another language.\n",
    "# There are 101 languages available.\n",
    "# https://zenodo.org/records/4905385\n",
    "#\n",
    "# Loading this might take 1~3 minutes.\n",
    "#=============================================================================\n",
    "\n",
    "!curl -o en.bin https://zenodo.org/records/4905385/files/fasttext-fr-mini?download=1"
   ]
  },
  {
   "cell_type": "code",
   "execution_count": 5,
   "metadata": {
    "id": "PAdCl7p8vUZe"
   },
   "outputs": [],
   "source": [
    "#=============================================================================\n",
    "# Load libraries\n",
    "#=============================================================================\n",
    "\n",
    "import compress_fasttext\n",
    "import matplotlib.pyplot as plt\n",
    "import numpy as np\n",
    "import random\n",
    "from sklearn.manifold import TSNE"
   ]
  },
  {
   "cell_type": "code",
   "execution_count": 7,
   "metadata": {
    "id": "slcSttA3tXNk"
   },
   "outputs": [
    {
     "name": "stdout",
     "output_type": "stream",
     "text": [
      "300\n"
     ]
    }
   ],
   "source": [
    "#=============================================================================\n",
    "# Load model into memory\n",
    "#=============================================================================\n",
    "\n",
    "embeddings = compress_fasttext.models.CompressedFastTextKeyedVectors.load('fr.bin')\n",
    "print(embeddings.vector_size)"
   ]
  },
  {
   "cell_type": "code",
   "execution_count": 8,
   "metadata": {
    "id": "RusVIe6Tu69u"
   },
   "outputs": [
    {
     "data": {
      "text/plain": [
       "[('University', 0.5600832266435751),\n",
       " ('Université', 0.4604234811344848),\n",
       " ('université', 0.4503176791390641),\n",
       " ('Library', 0.4030265627158037),\n",
       " ('polytechnique', 0.3953394791478581),\n",
       " ('universitaire', 0.3896474992417391),\n",
       " ('Ecole', 0.38663068661392885),\n",
       " ('École', 0.38308707796556385),\n",
       " ('Ambassade', 0.382330056289872),\n",
       " ('Institute', 0.38072232797426886),\n",
       " ('universités', 0.37244156820417157),\n",
       " ('Museum', 0.37126070317563636),\n",
       " ('ambassade', 0.36966589686490525),\n",
       " ('école', 0.3660739327945625),\n",
       " ('académie', 0.3612988810391684),\n",
       " ('émérite', 0.35692095798217355),\n",
       " ('School', 0.35306480016443614),\n",
       " ('archevêque', 0.3501715031472025),\n",
       " ('Paribas', 0.34940157131182825),\n",
       " ('Académie', 0.3493451282171487),\n",
       " ('Academy', 0.34905141454902155),\n",
       " ('Faculté', 0.3476185681103734),\n",
       " ('maternelle', 0.3440358964286518),\n",
       " ('Institut', 0.34401088205139824),\n",
       " ('edition', 0.34283235094415787)]"
      ]
     },
     "execution_count": 8,
     "metadata": {},
     "output_type": "execute_result"
    }
   ],
   "source": [
    "#=============================================================================\n",
    "# Most similar word\n",
    "#=============================================================================\n",
    "\n",
    "embeddings.similar_by_key('university', topn=25)"
   ]
  },
  {
   "cell_type": "code",
   "execution_count": 18,
   "metadata": {},
   "outputs": [
    {
     "data": {
      "text/plain": [
       "[('Homme', 0.715788992459468),\n",
       " ('femme', 0.6792130446046185),\n",
       " ('individu', 0.5995961856816512),\n",
       " ('humain', 0.5839239000863403),\n",
       " ('hommes', 0.5813957514791586),\n",
       " ('jeune', 0.5668726601402013),\n",
       " ('garçon', 0.5623198601392997),\n",
       " ('enfant', 0.5575594866314283),\n",
       " ('animal', 0.5545167224571268),\n",
       " ('adolescent', 0.5367634606741996),\n",
       " ('vieil', 0.5359744816692288),\n",
       " ('singe', 0.5227550818916235),\n",
       " ('célibataire', 0.5073824546217318),\n",
       " ('mari', 0.5053027766075612),\n",
       " ('écrivain', 0.5047432589512302),\n",
       " ('ami', 0.5038613101528009),\n",
       " ('soldat', 0.500700776057545),\n",
       " ('amant', 0.5001427552852984),\n",
       " ('politicien', 0.4955403706804678),\n",
       " ('citoyen', 0.48642744363889967),\n",
       " ('honnête', 0.4859937929952611),\n",
       " ('officier', 0.4854815168888595),\n",
       " ('diplomate', 0.4843746548493713),\n",
       " ('philosophe', 0.48425762348200146),\n",
       " ('travailleur', 0.479319323882026)]"
      ]
     },
     "execution_count": 18,
     "metadata": {},
     "output_type": "execute_result"
    }
   ],
   "source": [
    "embeddings.similar_by_key('homme', topn=25)"
   ]
  },
  {
   "cell_type": "code",
   "execution_count": 19,
   "metadata": {},
   "outputs": [
    {
     "data": {
      "text/plain": [
       "[('fille', 0.7763178251116244),\n",
       " ('homme', 0.6792130452638785),\n",
       " ('fillette', 0.6528843266492257),\n",
       " ('Femme', 0.6467468709432685),\n",
       " ('épouse', 0.6380390302551797),\n",
       " ('jeune', 0.6369479229896292),\n",
       " ('dame', 0.634214203538626),\n",
       " ('compagne', 0.6335388719443328),\n",
       " ('mari', 0.628301570338084),\n",
       " ('mariée', 0.6249922264308406),\n",
       " ('veuve', 0.611613406644845),\n",
       " ('demoiselle', 0.6041787131540101),\n",
       " ('mère', 0.6029852224038255),\n",
       " ('célibataire', 0.6000252503075061),\n",
       " ('fiancée', 0.5950792695843486),\n",
       " ('femmes', 0.5841418199904548),\n",
       " ('blonde', 0.5759548090186365),\n",
       " ('maman', 0.5659885677011403),\n",
       " ('adolescente', 0.5611369757187321),\n",
       " ('maîtresse', 0.5547053666609557),\n",
       " ('âgée', 0.5483368515334999),\n",
       " ('nièce', 0.547749105227188),\n",
       " ('féminine', 0.5425709500412337),\n",
       " ('copine', 0.5408740031494103),\n",
       " ('soeur', 0.5401133953677445)]"
      ]
     },
     "execution_count": 19,
     "metadata": {},
     "output_type": "execute_result"
    }
   ],
   "source": [
    "embeddings.similar_by_key('femme', topn=25)"
   ]
  },
  {
   "cell_type": "code",
   "execution_count": 10,
   "metadata": {
    "id": "-V7J983Hu66d"
   },
   "outputs": [
    {
     "data": {
      "text/plain": [
       "[('roi', 0.9389266846280078),\n",
       " ('Roi', 0.7386494577532611),\n",
       " ('reine', 0.6716318158428617),\n",
       " ('monarque', 0.628661298994758),\n",
       " ('prince', 0.6266587432913858),\n",
       " ('rois', 0.6190010137002834),\n",
       " ('souverain', 0.6107840491901726),\n",
       " ('royaume', 0.5943550313903481),\n",
       " ('duc', 0.56590231062168),\n",
       " ('Reine', 0.5439733746803109)]"
      ]
     },
     "execution_count": 10,
     "metadata": {},
     "output_type": "execute_result"
    }
   ],
   "source": [
    "#=============================================================================\n",
    "# Analogy\n",
    "# Man is to king as woman is to _____\n",
    "#=============================================================================\n",
    "\n",
    "king = embeddings.get_vector('roi')                 # NOTE: roi = king\n",
    "man = embeddings.get_vector('homme')                # NOTE: homme = man\n",
    "woman = embeddings.get_vector('femme')              # NOTE: femme = woman\n",
    "embeddings.similar_by_vector(king - man + woman)"
   ]
  },
  {
   "cell_type": "code",
   "execution_count": 11,
   "metadata": {
    "id": "cDxYpQqcu627"
   },
   "outputs": [
    {
     "data": {
      "text/plain": [
       "[('Berlin', 0.7295416212204661),\n",
       " ('France', 0.6558760934491875),\n",
       " ('Paris', 0.5697034897550504),\n",
       " ('Allemagne', 0.5594076987830998),\n",
       " ('Londres', 0.5511727996613075),\n",
       " ('Europe', 0.5378230741115012),\n",
       " ('Munich', 0.525371306071917),\n",
       " ('Grande-Bretagne', 0.5191098940626095),\n",
       " ('Bruxelles', 0.5178487777136745),\n",
       " ('Varsovie', 0.5097245969075059)]"
      ]
     },
     "execution_count": 11,
     "metadata": {},
     "output_type": "execute_result"
    }
   ],
   "source": [
    "#=============================================================================\n",
    "# Analogy\n",
    "# Germany is to Berlin as France is to _____\n",
    "#=============================================================================\n",
    "\n",
    "berlin = embeddings.get_vector('Berlin')\n",
    "germany = embeddings.get_vector('Germany')\n",
    "france = embeddings.get_vector('France')\n",
    "embeddings.similar_by_vector(berlin - germany + france)"
   ]
  },
  {
   "cell_type": "code",
   "execution_count": 26,
   "metadata": {
    "id": "QFE-kZymwpUh"
   },
   "outputs": [
    {
     "name": "stdout",
     "output_type": "stream",
     "text": [
      "homme: (300,)\n",
      "femme: (300,)\n",
      "Distance between homme and femme: 0.6933757018966351\n",
      "\n",
      "\n",
      "Most similar to homme\n",
      "\tHomme: 0.715788992459468\n",
      "\tfemme: 0.6792130446046185\n",
      "\tindividu: 0.5995961856816512\n",
      "\thumain: 0.5839239000863403\n",
      "\thommes: 0.5813957514791586\n",
      "\tjeune: 0.5668726601402013\n",
      "\tgarçon: 0.5623198601392997\n",
      "\tenfant: 0.5575594866314283\n",
      "\tanimal: 0.5545167224571268\n",
      "\tadolescent: 0.5367634606741996\n",
      "\tvieil: 0.5359744816692288\n",
      "\tsinge: 0.5227550818916235\n",
      "\tcélibataire: 0.5073824546217318\n",
      "\tmari: 0.5053027766075612\n",
      "\técrivain: 0.5047432589512302\n",
      "\tami: 0.5038613101528009\n",
      "\tsoldat: 0.500700776057545\n",
      "\tamant: 0.5001427552852984\n",
      "\tpoliticien: 0.4955403706804678\n",
      "\tcitoyen: 0.48642744363889967\n",
      "\thonnête: 0.4859937929952611\n",
      "\tofficier: 0.4854815168888595\n",
      "\tdiplomate: 0.4843746548493713\n",
      "\tphilosophe: 0.48425762348200146\n",
      "\ttravailleur: 0.479319323882026\n",
      "\n",
      "\n",
      "Most similar to femme\n",
      "\tfille: 0.7763178251116244\n",
      "\thomme: 0.6792130452638785\n",
      "\tfillette: 0.6528843266492257\n",
      "\tFemme: 0.6467468709432685\n",
      "\tépouse: 0.6380390302551797\n",
      "\tjeune: 0.6369479229896292\n",
      "\tdame: 0.634214203538626\n",
      "\tcompagne: 0.6335388719443328\n",
      "\tmari: 0.628301570338084\n",
      "\tmariée: 0.6249922264308406\n",
      "\tveuve: 0.611613406644845\n",
      "\tdemoiselle: 0.6041787131540101\n",
      "\tmère: 0.6029852224038255\n",
      "\tcélibataire: 0.6000252503075061\n",
      "\tfiancée: 0.5950792695843486\n",
      "\tfemmes: 0.5841418199904548\n",
      "\tblonde: 0.5759548090186365\n",
      "\tmaman: 0.5659885677011403\n",
      "\tadolescente: 0.5611369757187321\n",
      "\tmaîtresse: 0.5547053666609557\n",
      "\tâgée: 0.5483368515334999\n",
      "\tnièce: 0.547749105227188\n",
      "\tféminine: 0.5425709500412337\n",
      "\tcopine: 0.5408740031494103\n",
      "\tsoeur: 0.5401133953677445\n"
     ]
    }
   ],
   "source": [
    "#=============================================================================\n",
    "# Euclidean distance between two words\n",
    "#=============================================================================\n",
    "\n",
    "w1 = embeddings.get_vector(\"homme\")\n",
    "w2 = embeddings.get_vector(\"femme\")\n",
    "\n",
    "print(f\"homme: {w1.shape}\")\n",
    "print(f\"femme: {w2.shape}\")\n",
    "dist = np.linalg.norm(w2 - w1)\n",
    "print(f\"Distance between homme and femme: {dist}\")\n",
    "\n",
    "# words most similar to homme\n",
    "print(f\"\\n\\nMost similar to homme\")\n",
    "for word, score in embeddings.similar_by_key('homme', 25):\n",
    "  print(f\"\\t{word}: {score}\")\n",
    "\n",
    "# words most similar to femme\n",
    "print(f\"\\n\\nMost similar to femme\")\n",
    "for word, score in embeddings.similar_by_key('femme', 25):\n",
    "  print(f\"\\t{word}: {score}\")"
   ]
  },
  {
   "cell_type": "code",
   "execution_count": 13,
   "metadata": {
    "id": "o5Av6Po9wwsq"
   },
   "outputs": [
    {
     "name": "stdout",
     "output_type": "stream",
     "text": [
      "0.6843685677661986\n"
     ]
    }
   ],
   "source": [
    "#=============================================================================\n",
    "# Euclidean distance between two words\n",
    "#=============================================================================\n",
    "\n",
    "w1 = embeddings.get_vector(\"breakfast\")\n",
    "w2 = embeddings.get_vector(\"shoe\")\n",
    "dist = np.linalg.norm(w2 - w1)\n",
    "print(dist)"
   ]
  },
  {
   "cell_type": "code",
   "execution_count": 14,
   "metadata": {
    "id": "JlTPAnDcHTq3"
   },
   "outputs": [],
   "source": [
    "#=============================================================================\n",
    "# Uncomment these lines to use CJK fonts in the tSNE chart\n",
    "#=============================================================================\n",
    "\n",
    "#!wget https://github.com/googlefonts/noto-cjk/releases/download/Sans2.004/03_NotoSansCJK-OTC.zip\n",
    "#!unzip 03_NotoSansCJK-OTC.zip\n",
    "#import matplotlib.font_manager as fm\n",
    "#fprop = fm.FontProperties(fname='/content/NotoSansCJK-Regular.ttc')"
   ]
  },
  {
   "cell_type": "code",
   "execution_count": 15,
   "metadata": {
    "id": "5k21hmN2yvC9"
   },
   "outputs": [],
   "source": [
    "#=============================================================================\n",
    "# tSNE plot. Based on code from:\n",
    "# https://radimrehurek.com/gensim/auto_examples/tutorials/run_word2vec.html\n",
    "#=============================================================================\n",
    "\n",
    "def reduce_dimensions(model, words):\n",
    "    \n",
    "    # extract the words & their vectors, as numpy arrays\n",
    "    wordVectors = []\n",
    "    \n",
    "    for w in words:\n",
    "      wordVectors.append(embeddings.get_vector(w))\n",
    "\n",
    "    vectors = np.asarray(wordVectors)\n",
    "    labels = np.asarray(words)\n",
    "\n",
    "    # reduce using t-SNE\n",
    "    tsne = TSNE(n_components=2, random_state=1, perplexity=3)\n",
    "    vectors = tsne.fit_transform(vectors)\n",
    "\n",
    "    x_vals = [v[0] for v in vectors]\n",
    "    y_vals = [v[1] for v in vectors]\n",
    "    return x_vals, y_vals, labels\n",
    "\n",
    "def plot_with_matplotlib(x_vals, y_vals, labels):\n",
    "\n",
    "    random.seed(0)\n",
    "\n",
    "    plt.figure(figsize=(12, 12))\n",
    "    plt.scatter(x_vals, y_vals)\n",
    "\n",
    "    indices = list(range(len(labels)))\n",
    "    for i in indices:\n",
    "      plt.annotate(labels[i], (x_vals[i], y_vals[i]))\n",
    "      #plt.annotate(labels[i], (x_vals[i], y_vals[i]), fontproperties=fprop) # Uncomment this line for CJK fonts"
   ]
  },
  {
   "cell_type": "code",
   "execution_count": 17,
   "metadata": {
    "id": "j7CfsG9-zpAm"
   },
   "outputs": [
    {
     "data": {
      "image/png": "[encoded data removed]",
      "text/plain": [
       "<Figure size 1200x1200 with 1 Axes>"
      ]
     },
     "metadata": {},
     "output_type": "display_data"
    }
   ],
   "source": [
    "#=============================================================================\n",
    "# Draw tSNE chart for individual words\n",
    "#=============================================================================\n",
    "\n",
    "#? english\n",
    "# wordsInChart = ['man','woman','king','queen','child','boy','girl']\n",
    "\n",
    "#? french\n",
    "wordsInChart = ['homme','femme','roi','reine','enfant','garçon','fille']\n",
    "x_vals, y_vals, labels = reduce_dimensions(embeddings, wordsInChart)\n",
    "plot_with_matplotlib(x_vals, y_vals, labels)"
   ]
  }
 ],
 "metadata": {
  "colab": {
   "provenance": []
  },
  "gpuClass": "standard",
  "kernelspec": {
   "display_name": "Python 3 (ipykernel)",
   "language": "python",
   "name": "python3"
  },
  "language_info": {
   "codemirror_mode": {
    "name": "ipython",
    "version": 3
   },
   "file_extension": ".py",
   "mimetype": "text/x-python",
   "name": "python",
   "nbconvert_exporter": "python",
   "pygments_lexer": "ipython3",
   "version": "3.10.10"
  }
 },
 "nbformat": 4,
 "nbformat_minor": 1
}
