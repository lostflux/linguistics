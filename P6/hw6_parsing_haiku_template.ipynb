{
 "cells": [
  {
   "cell_type": "markdown",
   "metadata": {
    "id": "ln9uhOatAXwE"
   },
   "source": [
    "# Template for Exercise 6.2: Haikus in English, created using a CFG\n",
    "Dartmouth College, CS 72/LING 48, Winter 2024<br>\n",
    "Kenneth Lai (Kenneth.Han.Lai@dartmouth.edu)"
   ]
  },
  {
   "cell_type": "code",
   "execution_count": null,
   "metadata": {
    "id": "wXmp7_0y-wCR"
   },
   "outputs": [],
   "source": [
    "from nltk import CFG\n",
    "from nltk.parse.generate import generate"
   ]
  },
  {
   "cell_type": "code",
   "execution_count": null,
   "metadata": {
    "id": "GyBsL0lbAgOj"
   },
   "outputs": [],
   "source": [
    "cfgGrammarHaiku = CFG.fromstring(\"\"\"\n",
    "    \n",
    "    S -> SOMETHING1 BREAK SOMETHING2 BREAK SOMETHING3\n",
    "    \n",
    "    SOMETHING1 -> \"Write\"\n",
    "    SOMETHING2 -> \"a\"\n",
    "    SOMETHING3 -> \"haiku\"\n",
    "    \n",
    "    BREAK -> \"|\"\n",
    "    \n",
    "\"\"\")"
   ]
  },
  {
   "cell_type": "code",
   "execution_count": null,
   "metadata": {
    "id": "9L6ggNs3AhRd"
   },
   "outputs": [],
   "source": [
    "counter = 0\n",
    "for sentence in generate(cfgGrammarHaiku):\n",
    "    counter = counter + 1\n",
    "    print(' '.join(sentence))\n",
    "\n",
    "print(\"\\nSo far we have generated \" + str(counter) + \" sentences.\")"
   ]
  }
 ],
 "metadata": {
  "colab": {
   "provenance": []
  },
  "kernelspec": {
   "display_name": "Python 3 (ipykernel)",
   "language": "python",
   "name": "python3"
  },
  "language_info": {
   "codemirror_mode": {
    "name": "ipython",
    "version": 3
   },
   "file_extension": ".py",
   "mimetype": "text/x-python",
   "name": "python",
   "nbconvert_exporter": "python",
   "pygments_lexer": "ipython3",
   "version": "3.10.12"
  }
 },
 "nbformat": 4,
 "nbformat_minor": 1
}
