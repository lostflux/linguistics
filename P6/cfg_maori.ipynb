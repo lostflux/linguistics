{
 "cells": [
  {
   "cell_type": "markdown",
   "metadata": {
    "id": "1RowjIgpsaw6"
   },
   "source": [
    "# Examples for Week 7: Parsing. Klingon Syntax\n",
    "Dartmouth College, CS 72/LING 48, Winter 2024<br>\n",
    "Kenneth Lai (Kenneth.Han.Lai@dartmouth.edu)\n",
    "\n",
    "NLTK Rule-Based Parsing<br>\n",
    "https://www.nltk.org/book/ch08.html\n",
    "\n",
    "Example of NLTK parsing with a Context-Free Grammar. Examples from Klingon.<br>\n",
    "If you want to know more about Klingon syntax, Wikipedia has a very good description:<br>\n",
    "https://en.wikipedia.org/wiki/Klingon_grammar\n",
    "\n",
    "You can copy-paste the square bracket parses into any website that draws syntactic trees:<br>\n",
    "http://mshang.ca/syntree/"
   ]
  },
  {
   "cell_type": "markdown",
   "metadata": {},
   "source": [
    "#### Assignment Submitted by: Amittai Siavava"
   ]
  },
  {
   "cell_type": "code",
   "execution_count": 2,
   "metadata": {
    "id": "BvqHVrvIz1Bb"
   },
   "outputs": [],
   "source": [
    "import nltk"
   ]
  },
  {
   "cell_type": "code",
   "execution_count": 3,
   "metadata": {
    "id": "FpPALP9zsK13"
   },
   "outputs": [],
   "source": [
    "# This function splits the phrase into spaces and tries to get all of the\n",
    "# possible parses for the sentence according to the grammar. Its inputs are the\n",
    "# phrase to be parsed and the grammar that will be used for parsing.\n",
    "def getTree(phraseToBeParsed, grammar):\n",
    "    trees = []\n",
    "    sent = phraseToBeParsed.split()\n",
    "    rd_parser = nltk.RecursiveDescentParser(grammar)\n",
    "    for tree in rd_parser.parse(sent):\n",
    "        # print with square brackets\n",
    "        t = str(tree).replace(\"(\",\"[\").replace(\")\",\"]\")\n",
    "        trees.append(t)\n",
    "    return trees"
   ]
  },
  {
   "cell_type": "code",
   "execution_count": 4,
   "metadata": {
    "id": "KCSaE4fQz5L6"
   },
   "outputs": [],
   "source": [
    "grammarKlingon = nltk.CFG.fromstring(\"\"\"\n",
    "  \n",
    "  S  -> VP NP | VP\n",
    "  VP -> NP V | CP V\n",
    "  NP -> N | N N\n",
    "  CP -> NP CP-V\n",
    "\n",
    "  V    -> \"tlhutlh\" | \"ghoS\" | \"vIghoS\" | \"vIjatlhlaHbe'\" | \"neH\"\n",
    "  N    -> \"qa'vIn\" | \"Dave\" | \"tera'\" | \"tlhIngan\" | \"Hol\"\n",
    "  CP-V -> \"jatlh\"\n",
    "\n",
    "  \"\"\")"
   ]
  },
  {
   "cell_type": "code",
   "execution_count": 5,
   "metadata": {
    "colab": {
     "base_uri": "https://localhost:8080/"
    },
    "id": "7lRMgyY_0c6D",
    "outputId": "bfe8eb42-0c10-4168-ca56-74cb7f63817a"
   },
   "outputs": [
    {
     "name": "stdout",
     "output_type": "stream",
     "text": [
      "\n",
      "1: Dave drinks coffee\n",
      "[S [VP [NP [N qa'vIn]] [V tlhutlh]] [NP [N Dave]]]\n",
      "\n",
      "2: Dave goes to Earth\n",
      "[S [VP [NP [N tera']] [V ghoS]] [NP [N Dave]]]\n",
      "\n",
      "3: I go to Earth\n",
      "[S [VP [NP [N tera']] [V vIghoS]]]\n",
      "\n",
      "4: I cannot speak Klingon\n",
      "[S [VP [NP [N tlhIngan] [N Hol]] [V vIjatlhlaHbe']]]\n",
      "\n",
      "5: Dave wants to speak Klingon\n",
      "[S\n",
      "  [VP [CP [NP [N tlhIngan] [N Hol]] [CP-V jatlh]] [V neH]]\n",
      "  [NP [N Dave]]]\n"
     ]
    }
   ],
   "source": [
    "print(\"\\n1: Dave drinks coffee\")\n",
    "for t in getTree(\"qa'vIn tlhutlh Dave\", grammarKlingon):\n",
    "    print(t)\n",
    "    \n",
    "print(\"\\n2: Dave goes to Earth\")\n",
    "for t in getTree(\"tera' ghoS Dave\", grammarKlingon):\n",
    "    print(t)\n",
    "    \n",
    "print(\"\\n3: I go to Earth\")\n",
    "for t in getTree(\"tera' vIghoS\", grammarKlingon):\n",
    "    print(t)\n",
    "    \n",
    "print(\"\\n4: I cannot speak Klingon\")\n",
    "for t in getTree(\"tlhIngan Hol vIjatlhlaHbe'\", grammarKlingon):\n",
    "    print(t)\n",
    "    \n",
    "print(\"\\n5: Dave wants to speak Klingon\")\n",
    "for t in getTree(\"tlhIngan Hol jatlh neH Dave\", grammarKlingon):\n",
    "    print(t)"
   ]
  },
  {
   "cell_type": "markdown",
   "metadata": {},
   "source": [
    "## Other"
   ]
  },
  {
   "cell_type": "code",
   "execution_count": 9,
   "metadata": {},
   "outputs": [],
   "source": [
    "# grammar_maori = nltk.CFG.fromstring(\"\"\"\n",
    "    \n",
    "#     S  -> VP NP | VP\n",
    "#     VP -> NP V | CP V\n",
    "#     NP -> N | N N\n",
    "#     CP -> NP CP-V\n",
    "\n",
    "#     V    -> \"tlhutlh\" | \"ghoS\" | \"vIghoS\" | \"vIjatlhlaHbe'\" | \"neH\"\n",
    "#     N    -> \"qa'vIn\" | \"Dave\" | \"tera'\" | \"tlhIngan\" | \"Hol\"\n",
    "#     CP-V -> \"jatlh\"\n",
    "    \n",
    "    \n",
    "#     TAM.PST -> \"Kua\"\n",
    "#     N -> \"tunu\"\n",
    "#     DET -> \n",
    "#     TAM -> \"ana\" \n",
    "    \n",
    "\n",
    "#     \"\"\")\n",
    "\n",
    "grammar_maori = nltk.CFG.fromstring(\"\"\"\n",
    "        S -> VP NP PP\n",
    "\n",
    "        VP -> TAM V | TAM V TAM\n",
    "        PP -> PREP-ACC NPOBJ | NPOBJ\n",
    "        \n",
    "        NP -> DET N | DET PN | N | PN\n",
    "        NPOBJ -> DET N | DET PN | N | PN\n",
    "        \n",
    "        TAM -> TAM-PST | TAM-PROG | TAM-OPT | TAM-HABITUAL | TAM-DIRECTIONAL\n",
    "        \n",
    "        TAM-PST -> \"Kua\"\n",
    "        TAM-PROG -> \"Te\" | \"nei\"\n",
    "        TAM-OPT -> \"Kia\"\n",
    "        TAM-HABITUAL -> \"E\" | \"ana\"\n",
    "        TAM-DIRECTIONAL -> \"ake\"\n",
    "        \n",
    "        V -> \"tunu\" | \"'aere\" | \"orāna\" | \"reka\"\n",
    "        DET -> \"a\" | \"te\"\n",
    "        PN -> \"Tere\" | \"Rarotonga\"\n",
    "        PREP-ACC -> \"i\" | \"ki\"\n",
    "        N -> \"'are\" \"maki\" | \"taro\" | \"va'ine\" | \"'aere\" | \"kōtou\" | \"kātoatoa\" | \"koe\" | \"'ānani\"\n",
    "    \"\"\")"
   ]
  },
  {
   "cell_type": "code",
   "execution_count": 10,
   "metadata": {},
   "outputs": [],
   "source": [
    "sentences_maori = {\n",
    "    \"Tere planted the taro\": \"Kua tunu a Tere i te taro\",\n",
    "    \"The woman is going to the hospital\": \"Te 'aere nei te va'ine ki te 'are maki\",\n",
    "    \"Hi everyone!\": \"Kia orāna kōtou kātoatoa\",\n",
    "    \"Do you like oranges?\": \"E reka ana koe i te 'ānani\",\n",
    "    \"Have you been to Rarotonga?\": \"Kua 'aere ake koe ki Rarotonga\"\n",
    "}"
   ]
  },
  {
   "cell_type": "code",
   "execution_count": 11,
   "metadata": {},
   "outputs": [
    {
     "name": "stdout",
     "output_type": "stream",
     "text": [
      "\n",
      "Tere planted the taro\n",
      "[S\n",
      "  [VP [TAM [TAM-PST Kua]] [V tunu]]\n",
      "  [NP [DET a] [PN Tere]]\n",
      "  [PP [PREP-ACC i] [NPOBJ [DET te] [N taro]]]]\n",
      "\n",
      "The woman is going to the hospital\n",
      "[S\n",
      "  [VP [TAM [TAM-PROG Te]] [V 'aere] [TAM [TAM-PROG nei]]]\n",
      "  [NP [DET te] [N va'ine]]\n",
      "  [PP [PREP-ACC ki] [NPOBJ [DET te] [N 'are maki]]]]\n",
      "\n",
      "Hi everyone!\n",
      "[S\n",
      "  [VP [TAM [TAM-OPT Kia]] [V orāna]]\n",
      "  [NP [N kōtou]]\n",
      "  [PP [NPOBJ [N kātoatoa]]]]\n",
      "\n",
      "Do you like oranges?\n",
      "[S\n",
      "  [VP [TAM [TAM-HABITUAL E]] [V reka] [TAM [TAM-HABITUAL ana]]]\n",
      "  [NP [N koe]]\n",
      "  [PP [PREP-ACC i] [NPOBJ [DET te] [N 'ānani]]]]\n",
      "\n",
      "Have you been to Rarotonga?\n",
      "[S\n",
      "  [VP [TAM [TAM-PST Kua]] [V 'aere] [TAM [TAM-DIRECTIONAL ake]]]\n",
      "  [NP [N koe]]\n",
      "  [PP [PREP-ACC ki] [NPOBJ [PN Rarotonga]]]]\n"
     ]
    }
   ],
   "source": [
    "for translation, sentence in sentences_maori.items():\n",
    "    print(\"\\n\" + translation)\n",
    "    for t in getTree(sentence, grammar_maori):\n",
    "        print(t)"
   ]
  },
  {
   "cell_type": "code",
   "execution_count": 12,
   "metadata": {},
   "outputs": [
    {
     "name": "stdout",
     "output_type": "stream",
     "text": [
      "\n",
      "1: Dave drinks coffee\n",
      "[S [VP [NP [N qa'vIn]] [V tlhutlh]] [NP [N Dave]]]\n",
      "\n",
      "2: Dave goes to Earth\n",
      "[S [VP [NP [N tera']] [V ghoS]] [NP [N Dave]]]\n",
      "\n",
      "3: I go to Earth\n",
      "[S [VP [NP [N tera']] [V vIghoS]]]\n",
      "\n",
      "4: I cannot speak Klingon\n",
      "[S [VP [NP [N tlhIngan] [N Hol]] [V vIjatlhlaHbe']]]\n",
      "\n",
      "5: Dave wants to speak Klingon\n",
      "[S\n",
      "  [VP [CP [NP [N tlhIngan] [N Hol]] [CP-V jatlh]] [V neH]]\n",
      "  [NP [N Dave]]]\n"
     ]
    }
   ],
   "source": [
    "print(\"\\n1: Dave drinks coffee\")\n",
    "for t in getTree(\"qa'vIn tlhutlh Dave\", grammarKlingon):\n",
    "    print(t)\n",
    "    \n",
    "print(\"\\n2: Dave goes to Earth\")\n",
    "for t in getTree(\"tera' ghoS Dave\", grammarKlingon):\n",
    "    print(t)\n",
    "    \n",
    "print(\"\\n3: I go to Earth\")\n",
    "for t in getTree(\"tera' vIghoS\", grammarKlingon):\n",
    "    print(t)\n",
    "    \n",
    "print(\"\\n4: I cannot speak Klingon\")\n",
    "for t in getTree(\"tlhIngan Hol vIjatlhlaHbe'\", grammarKlingon):\n",
    "    print(t)\n",
    "    \n",
    "print(\"\\n5: Dave wants to speak Klingon\")\n",
    "for t in getTree(\"tlhIngan Hol jatlh neH Dave\", grammarKlingon):\n",
    "    print(t)"
   ]
  }
 ],
 "metadata": {
  "colab": {
   "collapsed_sections": [],
   "name": "cfg_klingon_template.ipynb",
   "provenance": []
  },
  "kernelspec": {
   "display_name": "Python 3 (ipykernel)",
   "language": "python",
   "name": "python3"
  },
  "language_info": {
   "codemirror_mode": {
    "name": "ipython",
    "version": 3
   },
   "file_extension": ".py",
   "mimetype": "text/x-python",
   "name": "python",
   "nbconvert_exporter": "python",
   "pygments_lexer": "ipython3",
   "version": "3.11.5"
  }
 },
 "nbformat": 4,
 "nbformat_minor": 1
}
