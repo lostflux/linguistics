{
 "cells": [
  {
   "cell_type": "markdown",
   "metadata": {
    "id": "1RowjIgpsaw6"
   },
   "source": [
    "# Examples for Week 7: Parsing. Tagalog Syntax\n",
    "Dartmouth College, CS 72/LING 48, Winter 2024<br>\n",
    "Kenneth Lai (Kenneth.Han.Lai@dartmouth.edu)\n",
    "\n",
    "NLTK Rule-Based Parsing<br>\n",
    "https://www.nltk.org/book/ch08.html\n",
    "\n",
    "Example of NLTK parsing with a Context-Free Grammar. Examples from Tagalog.\n",
    "\n",
    "You can copy-paste the square bracket parses into any website that draws syntactic trees:<br>\n",
    "http://mshang.ca/syntree/"
   ]
  },
  {
   "cell_type": "code",
   "execution_count": 1,
   "metadata": {
    "id": "BvqHVrvIz1Bb"
   },
   "outputs": [],
   "source": [
    "import nltk"
   ]
  },
  {
   "cell_type": "code",
   "execution_count": 2,
   "metadata": {
    "id": "FpPALP9zsK13"
   },
   "outputs": [],
   "source": [
    "# This function splits the phrase into spaces and tries to get all of the\n",
    "# possible parses for the sentence according to the grammar. Its inputs are the\n",
    "# phrase to be parsed and the grammar that will be used for parsing.\n",
    "def getTree(phraseToBeParsed, grammar):\n",
    "    trees = []\n",
    "    sent = phraseToBeParsed.split()\n",
    "    rd_parser = nltk.RecursiveDescentParser(grammar)\n",
    "    for tree in rd_parser.parse(sent):\n",
    "        # print with square brackets\n",
    "        t = str(tree).replace(\"(\",\"[\").replace(\")\",\"]\")\n",
    "        trees.append(t)\n",
    "    return trees"
   ]
  },
  {
   "cell_type": "code",
   "execution_count": 3,
   "metadata": {
    "id": "KCSaE4fQz5L6"
   },
   "outputs": [],
   "source": [
    "grammarTagalog = nltk.CFG.fromstring(\"\"\"\n",
    "  \n",
    "  S  -> VP NP\n",
    "  VP -> V | V NP | V NP PP\n",
    "  NP -> DET N | N\n",
    "  PP -> PREP NP\n",
    "\n",
    "  V    -> \"Dumating\" | \"Nagbasketbol\" | \"Sumulat\" | \"Nagbigay\"\n",
    "  N    -> \"lalaki\" | \"Juan\" | \"ako\" | \"libro\" | \"babae\"\n",
    "  DET  -> \"ang\" | \"si\" | \"ng\"\n",
    "  PREP -> \"sa\"\n",
    "\n",
    "  \"\"\")"
   ]
  },
  {
   "cell_type": "code",
   "execution_count": 4,
   "metadata": {
    "colab": {
     "base_uri": "https://localhost:8080/"
    },
    "id": "7lRMgyY_0c6D",
    "outputId": "27ee31d1-2b78-4847-b6db-93e983d29c5f"
   },
   "outputs": [
    {
     "name": "stdout",
     "output_type": "stream",
     "text": [
      "\n",
      "1: The man has arrived\n",
      "[S [VP [V Dumating]] [NP [DET ang] [N lalaki]]]\n",
      "\n",
      "2: Juan plays basketball\n",
      "[S [VP [V Nagbasketbol]] [NP [DET si] [N Juan]]]\n",
      "\n",
      "3: I wrote\n",
      "[S [VP [V Sumulat]] [NP [N ako]]]\n",
      "\n",
      "4: The man gave the woman a book\n",
      "[S\n",
      "  [VP\n",
      "    [V Nagbigay]\n",
      "    [NP [DET ng] [N libro]]\n",
      "    [PP [PREP sa] [NP [N babae]]]]\n",
      "  [NP [DET ang] [N lalaki]]]\n"
     ]
    }
   ],
   "source": [
    "print(\"\\n1: The man has arrived\")\n",
    "for t in getTree(\"Dumating ang lalaki\", grammarTagalog):\n",
    "    print(t)\n",
    "    \n",
    "print(\"\\n2: Juan plays basketball\")\n",
    "for t in getTree(\"Nagbasketbol si Juan\", grammarTagalog):\n",
    "    print(t)\n",
    "    \n",
    "print(\"\\n3: I wrote\")\n",
    "for t in getTree(\"Sumulat ako\", grammarTagalog):\n",
    "    print(t)\n",
    "    \n",
    "print(\"\\n4: The man gave the woman a book\")\n",
    "for t in getTree(\"Nagbigay ng libro sa babae ang lalaki\", grammarTagalog):\n",
    "    print(t)"
   ]
  }
 ],
 "metadata": {
  "colab": {
   "collapsed_sections": [],
   "name": "cfg_tagalog_template.ipynb",
   "provenance": []
  },
  "kernelspec": {
   "display_name": "Python 3 (ipykernel)",
   "language": "python",
   "name": "python3"
  },
  "language_info": {
   "codemirror_mode": {
    "name": "ipython",
    "version": 3
   },
   "file_extension": ".py",
   "mimetype": "text/x-python",
   "name": "python",
   "nbconvert_exporter": "python",
   "pygments_lexer": "ipython3",
   "version": "3.10.12"
  }
 },
 "nbformat": 4,
 "nbformat_minor": 1
}
