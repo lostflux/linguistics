{
 "cells": [
  {
   "cell_type": "markdown",
   "metadata": {
    "id": "1RowjIgpsaw6"
   },
   "source": [
    "# Examples for Week 7: Parsing. Klingon Syntax\n",
    "Dartmouth College, CS 72/LING 48, Winter 2024<br>\n",
    "Kenneth Lai (Kenneth.Han.Lai@dartmouth.edu)\n",
    "\n",
    "NLTK Rule-Based Parsing<br>\n",
    "https://www.nltk.org/book/ch08.html\n",
    "\n",
    "Example of NLTK parsing with a Context-Free Grammar. Examples from Klingon.<br>\n",
    "If you want to know more about Klingon syntax, Wikipedia has a very good description:<br>\n",
    "https://en.wikipedia.org/wiki/Klingon_grammar\n",
    "\n",
    "You can copy-paste the square bracket parses into any website that draws syntactic trees:<br>\n",
    "http://mshang.ca/syntree/"
   ]
  },
  {
   "cell_type": "code",
   "execution_count": 8,
   "metadata": {
    "id": "BvqHVrvIz1Bb"
   },
   "outputs": [],
   "source": [
    "import nltk"
   ]
  },
  {
   "cell_type": "code",
   "execution_count": 9,
   "metadata": {
    "id": "FpPALP9zsK13"
   },
   "outputs": [],
   "source": [
    "# This function splits the phrase into spaces and tries to get all of the\n",
    "# possible parses for the sentence according to the grammar. Its inputs are the\n",
    "# phrase to be parsed and the grammar that will be used for parsing.\n",
    "def getTree(phraseToBeParsed, grammar):\n",
    "    trees = []\n",
    "    sent = phraseToBeParsed.split()\n",
    "    rd_parser = nltk.RecursiveDescentParser(grammar)\n",
    "    for tree in rd_parser.parse(sent):\n",
    "        # print with square brackets\n",
    "        t = str(tree).replace(\"(\",\"[\").replace(\")\",\"]\")\n",
    "        trees.append(t)\n",
    "    return trees"
   ]
  },
  {
   "cell_type": "code",
   "execution_count": 10,
   "metadata": {
    "id": "KCSaE4fQz5L6"
   },
   "outputs": [],
   "source": [
    "grammarKlingon = nltk.CFG.fromstring(\"\"\"\n",
    "  \n",
    "  S  -> VP NP | VP\n",
    "  VP -> NP V | CP V\n",
    "  NP -> N | N N\n",
    "  CP -> NP CP-V\n",
    "\n",
    "  V    -> \"tlhutlh\" | \"ghoS\" | \"vIghoS\" | \"vIjatlhlaHbe'\" | \"neH\"\n",
    "  N    -> \"qa'vIn\" | \"Dave\" | \"tera'\" | \"tlhIngan\" | \"Hol\"\n",
    "  CP-V -> \"jatlh\"\n",
    "\n",
    "  \"\"\")"
   ]
  },
  {
   "cell_type": "code",
   "execution_count": 11,
   "metadata": {
    "colab": {
     "base_uri": "https://localhost:8080/"
    },
    "id": "7lRMgyY_0c6D",
    "outputId": "bfe8eb42-0c10-4168-ca56-74cb7f63817a"
   },
   "outputs": [
    {
     "name": "stdout",
     "output_type": "stream",
     "text": [
      "\n",
      "1: Dave drinks coffee\n",
      "[S [VP [NP [N qa'vIn]] [V tlhutlh]] [NP [N Dave]]]\n",
      "\n",
      "2: Dave goes to Earth\n",
      "[S [VP [NP [N tera']] [V ghoS]] [NP [N Dave]]]\n",
      "\n",
      "3: I go to Earth\n",
      "[S [VP [NP [N tera']] [V vIghoS]]]\n",
      "\n",
      "4: I cannot speak Klingon\n",
      "[S [VP [NP [N tlhIngan] [N Hol]] [V vIjatlhlaHbe']]]\n",
      "\n",
      "5: Dave wants to speak Klingon\n",
      "[S\n",
      "  [VP [CP [NP [N tlhIngan] [N Hol]] [CP-V jatlh]] [V neH]]\n",
      "  [NP [N Dave]]]\n"
     ]
    }
   ],
   "source": [
    "print(\"\\n1: Dave drinks coffee\")\n",
    "for t in getTree(\"qa'vIn tlhutlh Dave\", grammarKlingon):\n",
    "    print(t)\n",
    "    \n",
    "print(\"\\n2: Dave goes to Earth\")\n",
    "for t in getTree(\"tera' ghoS Dave\", grammarKlingon):\n",
    "    print(t)\n",
    "    \n",
    "print(\"\\n3: I go to Earth\")\n",
    "for t in getTree(\"tera' vIghoS\", grammarKlingon):\n",
    "    print(t)\n",
    "    \n",
    "print(\"\\n4: I cannot speak Klingon\")\n",
    "for t in getTree(\"tlhIngan Hol vIjatlhlaHbe'\", grammarKlingon):\n",
    "    print(t)\n",
    "    \n",
    "print(\"\\n5: Dave wants to speak Klingon\")\n",
    "for t in getTree(\"tlhIngan Hol jatlh neH Dave\", grammarKlingon):\n",
    "    print(t)"
   ]
  },
  {
   "cell_type": "markdown",
   "metadata": {},
   "source": [
    "## Other"
   ]
  },
  {
   "cell_type": "code",
   "execution_count": 24,
   "metadata": {},
   "outputs": [],
   "source": [
    "# grammar_maori = nltk.CFG.fromstring(\"\"\"\n",
    "    \n",
    "#     S  -> VP NP | VP\n",
    "#     VP -> NP V | CP V\n",
    "#     NP -> N | N N\n",
    "#     CP -> NP CP-V\n",
    "\n",
    "#     V    -> \"tlhutlh\" | \"ghoS\" | \"vIghoS\" | \"vIjatlhlaHbe'\" | \"neH\"\n",
    "#     N    -> \"qa'vIn\" | \"Dave\" | \"tera'\" | \"tlhIngan\" | \"Hol\"\n",
    "#     CP-V -> \"jatlh\"\n",
    "    \n",
    "    \n",
    "#     TAM.PST -> \"Kua\"\n",
    "#     N -> \"tunu\"\n",
    "#     DET -> \n",
    "#     TAM -> \"ana\" \n",
    "    \n",
    "\n",
    "#     \"\"\")\n",
    "\n",
    "framar_maori = nltk.CFG.fromstring(\"\"\"\n",
    "        S -> TAM VP\n",
    "        VP -> V NP | V NP NP | V PP | V\n",
    "        NP -> DET N | N | TAM-DET N | PROP-N\n",
    "        PP -> PREP-ACC DET N\n",
    "        TAM -> \"Kua\" | \"E\" | \"Kia\"\n",
    "        TAM-DET -> \"te\"\n",
    "        V -> \"tunu\" | \"aere\" | \"reka\" | \"orāna\" | \"kōtou\"\n",
    "        N -> \"Tere\" | \"taro\" | \"va'ine\" | \"te\" | \"are\" | \"maki\" | \"kātoatoa\" | \"koe\" | \"ānani\" | \"Rarotonga\"\n",
    "        DET -> \"a\" | \"i\"\n",
    "        PREP-ACC -> \"i\"\n",
    "        PROP-N -> \"Rarotonga\"\n",
    "    \"\"\")"
   ]
  },
  {
   "cell_type": "code",
   "execution_count": 25,
   "metadata": {},
   "outputs": [],
   "source": [
    "sentences_maori = {\n",
    "    \"Tere planted the taro\": \"Kua tunu a Tere i te taro\",\n",
    "    \"The woman is going to the hospital\": \"Te 'aere nei te va'ine ki te 'are maki\",\n",
    "    \"Hi everyone!\": \"Kia orāna kōtou kātoatoa\",\n",
    "    \"Do you like oranges?\": \"E reka ana koe i te 'ānani\",\n",
    "    \"Have you been to Rarotonga?\": \"Kua 'aere ake koe ki Rarotonga\"\n",
    "}"
   ]
  },
  {
   "cell_type": "code",
   "execution_count": 26,
   "metadata": {},
   "outputs": [
    {
     "name": "stdout",
     "output_type": "stream",
     "text": [
      "\n",
      "Tere planted the taro\n"
     ]
    },
    {
     "ename": "ValueError",
     "evalue": "Grammar does not cover some of the input words: \"'Kua', 'tunu', 'a', 'Tere', 'i', 'te', 'taro'\".",
     "output_type": "error",
     "traceback": [
      "\u001b[0;31m---------------------------------------------------------------------------\u001b[0m",
      "\u001b[0;31mValueError\u001b[0m                                Traceback (most recent call last)",
      "Cell \u001b[0;32mIn[26], line 3\u001b[0m\n\u001b[1;32m      1\u001b[0m \u001b[38;5;28;01mfor\u001b[39;00m translation, sentence \u001b[38;5;129;01min\u001b[39;00m sentences_maori\u001b[38;5;241m.\u001b[39mitems():\n\u001b[1;32m      2\u001b[0m     \u001b[38;5;28mprint\u001b[39m(\u001b[38;5;124m\"\u001b[39m\u001b[38;5;130;01m\\n\u001b[39;00m\u001b[38;5;124m\"\u001b[39m \u001b[38;5;241m+\u001b[39m translation)\n\u001b[0;32m----> 3\u001b[0m     \u001b[38;5;28;01mfor\u001b[39;00m t \u001b[38;5;129;01min\u001b[39;00m \u001b[43mgetTree\u001b[49m\u001b[43m(\u001b[49m\u001b[43msentence\u001b[49m\u001b[43m,\u001b[49m\u001b[43m \u001b[49m\u001b[43mgrammar_maori\u001b[49m\u001b[43m)\u001b[49m:\n\u001b[1;32m      4\u001b[0m         \u001b[38;5;28mprint\u001b[39m(t)\n",
      "Cell \u001b[0;32mIn[9], line 8\u001b[0m, in \u001b[0;36mgetTree\u001b[0;34m(phraseToBeParsed, grammar)\u001b[0m\n\u001b[1;32m      6\u001b[0m sent \u001b[38;5;241m=\u001b[39m phraseToBeParsed\u001b[38;5;241m.\u001b[39msplit()\n\u001b[1;32m      7\u001b[0m rd_parser \u001b[38;5;241m=\u001b[39m nltk\u001b[38;5;241m.\u001b[39mRecursiveDescentParser(grammar)\n\u001b[0;32m----> 8\u001b[0m \u001b[38;5;28;01mfor\u001b[39;00m tree \u001b[38;5;129;01min\u001b[39;00m \u001b[43mrd_parser\u001b[49m\u001b[38;5;241;43m.\u001b[39;49m\u001b[43mparse\u001b[49m\u001b[43m(\u001b[49m\u001b[43msent\u001b[49m\u001b[43m)\u001b[49m:\n\u001b[1;32m      9\u001b[0m     \u001b[38;5;66;03m# print with square brackets\u001b[39;00m\n\u001b[1;32m     10\u001b[0m     t \u001b[38;5;241m=\u001b[39m \u001b[38;5;28mstr\u001b[39m(tree)\u001b[38;5;241m.\u001b[39mreplace(\u001b[38;5;124m\"\u001b[39m\u001b[38;5;124m(\u001b[39m\u001b[38;5;124m\"\u001b[39m,\u001b[38;5;124m\"\u001b[39m\u001b[38;5;124m[\u001b[39m\u001b[38;5;124m\"\u001b[39m)\u001b[38;5;241m.\u001b[39mreplace(\u001b[38;5;124m\"\u001b[39m\u001b[38;5;124m)\u001b[39m\u001b[38;5;124m\"\u001b[39m,\u001b[38;5;124m\"\u001b[39m\u001b[38;5;124m]\u001b[39m\u001b[38;5;124m\"\u001b[39m)\n\u001b[1;32m     11\u001b[0m     trees\u001b[38;5;241m.\u001b[39mappend(t)\n",
      "File \u001b[0;32m~/miniconda3/envs/data-mining/lib/python3.11/site-packages/nltk/parse/recursivedescent.py:76\u001b[0m, in \u001b[0;36mRecursiveDescentParser.parse\u001b[0;34m(self, tokens)\u001b[0m\n\u001b[1;32m     72\u001b[0m \u001b[38;5;28;01mdef\u001b[39;00m \u001b[38;5;21mparse\u001b[39m(\u001b[38;5;28mself\u001b[39m, tokens):\n\u001b[1;32m     73\u001b[0m     \u001b[38;5;66;03m# Inherit docs from ParserI\u001b[39;00m\n\u001b[1;32m     75\u001b[0m     tokens \u001b[38;5;241m=\u001b[39m \u001b[38;5;28mlist\u001b[39m(tokens)\n\u001b[0;32m---> 76\u001b[0m     \u001b[38;5;28;43mself\u001b[39;49m\u001b[38;5;241;43m.\u001b[39;49m\u001b[43m_grammar\u001b[49m\u001b[38;5;241;43m.\u001b[39;49m\u001b[43mcheck_coverage\u001b[49m\u001b[43m(\u001b[49m\u001b[43mtokens\u001b[49m\u001b[43m)\u001b[49m\n\u001b[1;32m     78\u001b[0m     \u001b[38;5;66;03m# Start a recursive descent parse, with an initial tree\u001b[39;00m\n\u001b[1;32m     79\u001b[0m     \u001b[38;5;66;03m# containing just the start symbol.\u001b[39;00m\n\u001b[1;32m     80\u001b[0m     start \u001b[38;5;241m=\u001b[39m \u001b[38;5;28mself\u001b[39m\u001b[38;5;241m.\u001b[39m_grammar\u001b[38;5;241m.\u001b[39mstart()\u001b[38;5;241m.\u001b[39msymbol()\n",
      "File \u001b[0;32m~/miniconda3/envs/data-mining/lib/python3.11/site-packages/nltk/grammar.py:665\u001b[0m, in \u001b[0;36mCFG.check_coverage\u001b[0;34m(self, tokens)\u001b[0m\n\u001b[1;32m    663\u001b[0m \u001b[38;5;28;01mif\u001b[39;00m missing:\n\u001b[1;32m    664\u001b[0m     missing \u001b[38;5;241m=\u001b[39m \u001b[38;5;124m\"\u001b[39m\u001b[38;5;124m, \u001b[39m\u001b[38;5;124m\"\u001b[39m\u001b[38;5;241m.\u001b[39mjoin(\u001b[38;5;124mf\u001b[39m\u001b[38;5;124m\"\u001b[39m\u001b[38;5;132;01m{\u001b[39;00mw\u001b[38;5;132;01m!r}\u001b[39;00m\u001b[38;5;124m\"\u001b[39m \u001b[38;5;28;01mfor\u001b[39;00m w \u001b[38;5;129;01min\u001b[39;00m missing)\n\u001b[0;32m--> 665\u001b[0m     \u001b[38;5;28;01mraise\u001b[39;00m \u001b[38;5;167;01mValueError\u001b[39;00m(\n\u001b[1;32m    666\u001b[0m         \u001b[38;5;124m\"\u001b[39m\u001b[38;5;124mGrammar does not cover some of the \u001b[39m\u001b[38;5;124m\"\u001b[39m \u001b[38;5;124m\"\u001b[39m\u001b[38;5;124minput words: \u001b[39m\u001b[38;5;132;01m%r\u001b[39;00m\u001b[38;5;124m.\u001b[39m\u001b[38;5;124m\"\u001b[39m \u001b[38;5;241m%\u001b[39m missing\n\u001b[1;32m    667\u001b[0m     )\n",
      "\u001b[0;31mValueError\u001b[0m: Grammar does not cover some of the input words: \"'Kua', 'tunu', 'a', 'Tere', 'i', 'te', 'taro'\"."
     ]
    }
   ],
   "source": [
    "for translation, sentence in sentences_maori.items():\n",
    "    print(\"\\n\" + translation)\n",
    "    for t in getTree(sentence, grammar_maori):\n",
    "        print(t)"
   ]
  },
  {
   "cell_type": "code",
   "execution_count": null,
   "metadata": {},
   "outputs": [],
   "source": [
    "print(\"\\n1: Dave drinks coffee\")\n",
    "for t in getTree(\"qa'vIn tlhutlh Dave\", grammarKlingon):\n",
    "    print(t)\n",
    "    \n",
    "print(\"\\n2: Dave goes to Earth\")\n",
    "for t in getTree(\"tera' ghoS Dave\", grammarKlingon):\n",
    "    print(t)\n",
    "    \n",
    "print(\"\\n3: I go to Earth\")\n",
    "for t in getTree(\"tera' vIghoS\", grammarKlingon):\n",
    "    print(t)\n",
    "    \n",
    "print(\"\\n4: I cannot speak Klingon\")\n",
    "for t in getTree(\"tlhIngan Hol vIjatlhlaHbe'\", grammarKlingon):\n",
    "    print(t)\n",
    "    \n",
    "print(\"\\n5: Dave wants to speak Klingon\")\n",
    "for t in getTree(\"tlhIngan Hol jatlh neH Dave\", grammarKlingon):\n",
    "    print(t)"
   ]
  }
 ],
 "metadata": {
  "colab": {
   "collapsed_sections": [],
   "name": "cfg_klingon_template.ipynb",
   "provenance": []
  },
  "kernelspec": {
   "display_name": "Python 3 (ipykernel)",
   "language": "python",
   "name": "python3"
  },
  "language_info": {
   "codemirror_mode": {
    "name": "ipython",
    "version": 3
   },
   "file_extension": ".py",
   "mimetype": "text/x-python",
   "name": "python",
   "nbconvert_exporter": "python",
   "pygments_lexer": "ipython3",
   "version": "3.11.5"
  }
 },
 "nbformat": 4,
 "nbformat_minor": 1
}
